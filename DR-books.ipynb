{
 "cells": [
  {
   "cell_type": "code",
   "execution_count": 1,
   "metadata": {},
   "outputs": [],
   "source": [
    "import requests\n",
    "from bs4 import BeautifulSoup\n",
    "import psycopg2"
   ]
  },
  {
   "cell_type": "code",
   "execution_count": 2,
   "metadata": {},
   "outputs": [],
   "source": [
    "DB_NAME = \"kitap_db\"\n",
    "DB_USER = \"postgres\"\n",
    "DB_PASSWORD = \"kerimcan1234\"\n",
    "DB_HOST = \"localhost\"\n",
    "DB_PORT = \"5432\""
   ]
  },
  {
   "cell_type": "code",
   "execution_count": 3,
   "metadata": {},
   "outputs": [],
   "source": [
    "con = psycopg2.connect(\n",
    "    dbname=DB_NAME,\n",
    "    user=DB_USER,\n",
    "    password=DB_PASSWORD,\n",
    "    host=DB_HOST,\n",
    "    port = DB_PORT\n",
    ")\n",
    "con.autocommit = True\n",
    "cursor = con.cursor()"
   ]
  },
  {
   "cell_type": "code",
   "execution_count": 4,
   "metadata": {},
   "outputs": [],
   "source": [
    "query_create_table = \"\"\" CREATE TABLE IF NOT EXISTS dr_kitaplar(\n",
    "    id Serial PRIMARY KEY,\n",
    "    kitapAdi TEXT NOT NULL,\n",
    "    yazar TEXT NOT NULL,\n",
    "    yayinEvi TEXT NOT NULL,\n",
    "    ucret TEXT NOT NULL,\n",
    "    link TEXT NOT NULL\n",
    "    );\n",
    "    \"\"\"\n",
    "cursor.execute(query_create_table)"
   ]
  },
  {
   "cell_type": "code",
   "execution_count": 5,
   "metadata": {},
   "outputs": [],
   "source": [
    "def kullanici_ekle(a, b, c, d, e):\n",
    "    query_INSERT = f\"INSERT INTO dr_kitaplar (kitapAdi, yazar, yayinEvi, ucret, link) SELECT '{a}', '{b}', '{c}', '{d}', '{e}' WHERE NOT EXISTS ( SELECT * FROM dr_kitaplar WHERE kitapAdi='{a}' and yazar='{b}' and yayinEvi='{c}' and ucret='{d}' and link='{e}');\"\n",
    "    cursor.execute(query_INSERT)"
   ]
  },
  {
   "cell_type": "code",
   "execution_count": 6,
   "metadata": {},
   "outputs": [
    {
     "name": "stdout",
     "output_type": "stream",
     "text": [
      "toplam 2700 ürün başarılı bir şekilde veri tabanına eklendi.\n"
     ]
    }
   ],
   "source": [
    "header = {\n",
    "    \"user-agent\": \"Mozilla/5.0 (Windows NT 10.0; Win64; x64) AppleWebKit/537.36 (KHTML, like Gecko) Chrome/102.0.0.0 Safari/537.36\"\n",
    "}\n",
    "\n",
    "urunSayisi = 0\n",
    "for sayfa in range(1, 61):\n",
    "    r = requests.get(f\"https://www.dr.com.tr/kategori/Kitap/Bilim/grupno=00052?Page={sayfa}\", headers=header)\n",
    "\n",
    "    soup = BeautifulSoup(r.content, \"lxml\")\n",
    "\n",
    "    drKitaplar = soup.find_all(\"div\", attrs={\"class\":\"prd-content\"})\n",
    "\n",
    "\n",
    "    for kitaplar in drKitaplar:\n",
    "        urunSayisi += 1\n",
    "        kitapAd = kitaplar.find(\"a\", attrs={\"class\": \"prd-name\"}).text.replace(\"'\",\" \")\n",
    "        try:\n",
    "            kitapYazar = kitaplar.find(\"a\", attrs={\"class\": \"who text-overflow\"}).text.strip().replace(\"'\",\" \")\n",
    "        except Exception:\n",
    "            kitapYazar = kitaplar.find(\"div\", attrs={\"class\": \"prd-row\"}).text.replace(\"'\",\" \")\n",
    "\n",
    "        kitapYayin = kitaplar.find(\"a\", attrs = {\"class\":\"prd-publisher\"}).text.strip()\n",
    "        kitapUcret = kitaplar.find(\"div\", attrs = {\"class\": \"prd-price\"}).text.strip()\n",
    "        kitapURL =  \"https://www.dr.com.tr\" + kitaplar.find(\"a\").get(\"href\")\n",
    "            \n",
    "        kitap = {\"Kitap-Adi\":kitapAd, \"Kitap-Yazar\": kitapYazar, \"Kitap-Yayin\": kitapYayin, \"Kitap-Ucret\": kitapUcret, \"Kitap-URL\": kitapURL}\n",
    "\n",
    "        kullanici_ekle(kitap[\"Kitap-Adi\"], kitap[\"Kitap-Yazar\"], kitap[\"Kitap-Yayin\"], kitap[\"Kitap-Ucret\"], kitap[\"Kitap-URL\"])\n",
    "print(f\"toplam {urunSayisi} ürün başarılı bir şekilde veri tabanına eklendi.\")"
   ]
  },
  {
   "cell_type": "code",
   "execution_count": null,
   "metadata": {},
   "outputs": [],
   "source": []
  }
 ],
 "metadata": {
  "kernelspec": {
   "display_name": "Python 3.9.7 ('base')",
   "language": "python",
   "name": "python3"
  },
  "language_info": {
   "codemirror_mode": {
    "name": "ipython",
    "version": 3
   },
   "file_extension": ".py",
   "mimetype": "text/x-python",
   "name": "python",
   "nbconvert_exporter": "python",
   "pygments_lexer": "ipython3",
   "version": "3.9.7"
  },
  "orig_nbformat": 4,
  "vscode": {
   "interpreter": {
    "hash": "b1bcfe3d0c7c1eaf9a383e802cff973b3b30ca64cd73856fac660ea40304eaf4"
   }
  }
 },
 "nbformat": 4,
 "nbformat_minor": 2
}
