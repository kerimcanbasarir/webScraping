{
 "cells": [
  {
   "cell_type": "code",
   "execution_count": 25,
   "metadata": {},
   "outputs": [],
   "source": [
    "import requests\n",
    "from bs4 import BeautifulSoup\n",
    "import psycopg2"
   ]
  },
  {
   "cell_type": "code",
   "execution_count": 26,
   "metadata": {},
   "outputs": [],
   "source": [
    "DB_NAME = \"kitap_db\"\n",
    "DB_USER = \"postgres\"\n",
    "DB_PASSWORD = \"root\"\n",
    "DB_HOST = \"localhost\"\n",
    "DB_PORT = \"5432\""
   ]
  },
  {
   "cell_type": "code",
   "execution_count": 27,
   "metadata": {},
   "outputs": [],
   "source": [
    "con = psycopg2.connect(\n",
    "    dbname=DB_NAME,\n",
    "    user=DB_USER,\n",
    "    password=DB_PASSWORD,\n",
    "    host=DB_HOST,\n",
    "    port = DB_PORT\n",
    ")\n",
    "con.autocommit = True\n",
    "cursor = con.cursor()"
   ]
  },
  {
   "cell_type": "code",
   "execution_count": 28,
   "metadata": {},
   "outputs": [],
   "source": [
    "query_create_table = \"\"\" CREATE TABLE IF NOT EXISTS dr_kitaplar(\n",
    "    id Serial PRIMARY KEY,\n",
    "    kitapAdi TEXT NOT NULL,\n",
    "    yazar TEXT NOT NULL,\n",
    "    yayinEvi TEXT NOT NULL,\n",
    "    ucret TEXT NOT NULL,\n",
    "    link TEXT NOT NULL\n",
    "    );\n",
    "    \"\"\"\n",
    "cursor.execute(query_create_table)"
   ]
  },
  {
   "cell_type": "code",
   "execution_count": 29,
   "metadata": {},
   "outputs": [],
   "source": [
    "def add_db_user(book_name, book_author, book_publishing, book_price, book_URL):\n",
    "    query_INSERT = f\"INSERT INTO dr_kitaplar (kitapAdi, yazar, yayinEvi, ucret, link) SELECT '{book_name}', '{book_author}', '{book_publishing}', '{book_price}', '{book_URL}' WHERE NOT EXISTS ( SELECT * FROM dr_kitaplar WHERE kitapAdi='{book_name}' and yazar='{book_author}' and yayinEvi='{book_publishing}' and ucret='{book_price}' and link='{book_URL}');\"\n",
    "    cursor.execute(query_INSERT)"
   ]
  },
  {
   "cell_type": "code",
   "execution_count": 30,
   "metadata": {},
   "outputs": [
    {
     "name": "stdout",
     "output_type": "stream",
     "text": [
      "toplam 45 ürün başarılı bir şekilde veri tabanına eklendi.\n"
     ]
    }
   ],
   "source": [
    "header = {\n",
    "    \"user-agent\": \"Mozilla/5.0 (Windows NT 10.0; Win64; x64) AppleWebKit/537.36 (KHTML, like Gecko) Chrome/102.0.0.0 Safari/537.36\"\n",
    "}\n",
    "\n",
    "ProductCount = 0\n",
    "for pageNumber in range(1, 4):\n",
    "    r = requests.get(f\"https://www.dr.com.tr/kategori/Kitap/Bilim/grupno=00052?Page={pageNumber}\", headers=header)\n",
    "\n",
    "    soup = BeautifulSoup(r.content, \"lxml\")\n",
    "\n",
    "    drBooks = soup.find_all(\"div\", attrs={\"class\":\"prd-content\"})\n",
    "\n",
    "\n",
    "    for books in drBooks:\n",
    "        ProductCount += 1\n",
    "        book_name = books.find(\"a\", attrs={\"class\": \"prd-name\"}).text.replace(\"'\",\" \")\n",
    "        try:\n",
    "            book_author = books.find(\"a\", attrs={\"class\": \"who text-overflow\"}).text.strip().replace(\"'\",\" \")\n",
    "        except Exception:\n",
    "            book_author = books.find(\"div\", attrs={\"class\": \"prd-row\"}).text.replace(\"'\",\" \")\n",
    "\n",
    "        book_publishing = books.find(\"a\", attrs = {\"class\":\"prd-publisher\"}).text.strip()\n",
    "        book_price = books.find(\"div\", attrs = {\"class\": \"prd-price\"}).text.strip()\n",
    "        book_URL =  \"https://www.dr.com.tr\" + books.find(\"a\").get(\"href\")\n",
    "            \n",
    "        book = {\"Kitap-Adi\":book_name, \"Kitap-Yazar\": book_author, \"Kitap-Yayin\": book_publishing, \"Kitap-Ucret\": book_price, \"Kitap-URL\": book_URL}\n",
    "\n",
    "        add_db_user(book[\"Kitap-Adi\"], book[\"Kitap-Yazar\"], book[\"Kitap-Yayin\"], book[\"Kitap-Ucret\"], book[\"Kitap-URL\"])\n",
    "print(f\"toplam {ProductCount} ürün başarılı bir şekilde veri tabanına eklendi.\")"
   ]
  },
  {
   "cell_type": "code",
   "execution_count": null,
   "metadata": {},
   "outputs": [],
   "source": []
  }
 ],
 "metadata": {
  "kernelspec": {
   "display_name": "Python 3.9.7 ('base')",
   "language": "python",
   "name": "python3"
  },
  "language_info": {
   "codemirror_mode": {
    "name": "ipython",
    "version": 3
   },
   "file_extension": ".py",
   "mimetype": "text/x-python",
   "name": "python",
   "nbconvert_exporter": "python",
   "pygments_lexer": "ipython3",
   "version": "3.9.7"
  },
  "orig_nbformat": 4,
  "vscode": {
   "interpreter": {
    "hash": "b1bcfe3d0c7c1eaf9a383e802cff973b3b30ca64cd73856fac660ea40304eaf4"
   }
  }
 },
 "nbformat": 4,
 "nbformat_minor": 2
}
